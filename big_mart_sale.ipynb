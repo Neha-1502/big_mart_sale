{
 "cells": [
  {
   "cell_type": "code",
   "execution_count": 1,
   "id": "3e538397-7d3c-440f-b61b-7832cf7ec9ef",
   "metadata": {},
   "outputs": [
    {
     "name": "stdout",
     "output_type": "stream",
     "text": [
      "Defaulting to user installation because normal site-packages is not writeable\n",
      "Collecting jupyter-collaboration\n",
      "  Downloading jupyter_collaboration-2.1.5-py3-none-any.whl.metadata (7.0 kB)\n",
      "Requirement already satisfied: jsonschema>=4.18.0 in c:\\programdata\\anaconda3\\lib\\site-packages (from jupyter-collaboration) (4.19.2)\n",
      "Requirement already satisfied: jupyter-events>=0.10.0 in c:\\programdata\\anaconda3\\lib\\site-packages (from jupyter-collaboration) (0.10.0)\n",
      "Collecting jupyter-server-fileid<1,>=0.7.0 (from jupyter-collaboration)\n",
      "  Downloading jupyter_server_fileid-0.9.3-py3-none-any.whl.metadata (4.7 kB)\n",
      "Requirement already satisfied: jupyter-server<3.0.0,>=2.0.0 in c:\\programdata\\anaconda3\\lib\\site-packages (from jupyter-collaboration) (2.14.1)\n",
      "Collecting jupyter-ydoc<3.0.0,>=2.1.2 (from jupyter-collaboration)\n",
      "  Downloading jupyter_ydoc-2.1.3-py3-none-any.whl.metadata (2.9 kB)\n",
      "Collecting pycrdt (from jupyter-collaboration)\n",
      "  Downloading pycrdt-0.10.6-cp312-none-win_amd64.whl.metadata (2.1 kB)\n",
      "Collecting pycrdt-websocket<0.16.0,>=0.15.0 (from jupyter-collaboration)\n",
      "  Downloading pycrdt_websocket-0.15.1-py3-none-any.whl.metadata (5.3 kB)\n",
      "Requirement already satisfied: attrs>=22.2.0 in c:\\programdata\\anaconda3\\lib\\site-packages (from jsonschema>=4.18.0->jupyter-collaboration) (23.1.0)\n",
      "Requirement already satisfied: jsonschema-specifications>=2023.03.6 in c:\\programdata\\anaconda3\\lib\\site-packages (from jsonschema>=4.18.0->jupyter-collaboration) (2023.7.1)\n",
      "Requirement already satisfied: referencing>=0.28.4 in c:\\programdata\\anaconda3\\lib\\site-packages (from jsonschema>=4.18.0->jupyter-collaboration) (0.30.2)\n",
      "Requirement already satisfied: rpds-py>=0.7.1 in c:\\programdata\\anaconda3\\lib\\site-packages (from jsonschema>=4.18.0->jupyter-collaboration) (0.10.6)\n",
      "Requirement already satisfied: python-json-logger>=2.0.4 in c:\\programdata\\anaconda3\\lib\\site-packages (from jupyter-events>=0.10.0->jupyter-collaboration) (2.0.7)\n",
      "Requirement already satisfied: pyyaml>=5.3 in c:\\programdata\\anaconda3\\lib\\site-packages (from jupyter-events>=0.10.0->jupyter-collaboration) (6.0.1)\n",
      "Requirement already satisfied: rfc3339-validator in c:\\programdata\\anaconda3\\lib\\site-packages (from jupyter-events>=0.10.0->jupyter-collaboration) (0.1.4)\n",
      "Requirement already satisfied: rfc3986-validator>=0.1.1 in c:\\programdata\\anaconda3\\lib\\site-packages (from jupyter-events>=0.10.0->jupyter-collaboration) (0.1.1)\n",
      "Requirement already satisfied: traitlets>=5.3 in c:\\programdata\\anaconda3\\lib\\site-packages (from jupyter-events>=0.10.0->jupyter-collaboration) (5.14.3)\n",
      "Requirement already satisfied: anyio>=3.1.0 in c:\\programdata\\anaconda3\\lib\\site-packages (from jupyter-server<3.0.0,>=2.0.0->jupyter-collaboration) (4.2.0)\n",
      "Requirement already satisfied: argon2-cffi>=21.1 in c:\\programdata\\anaconda3\\lib\\site-packages (from jupyter-server<3.0.0,>=2.0.0->jupyter-collaboration) (21.3.0)\n",
      "Requirement already satisfied: jinja2>=3.0.3 in c:\\programdata\\anaconda3\\lib\\site-packages (from jupyter-server<3.0.0,>=2.0.0->jupyter-collaboration) (3.1.4)\n",
      "Requirement already satisfied: jupyter-client>=7.4.4 in c:\\programdata\\anaconda3\\lib\\site-packages (from jupyter-server<3.0.0,>=2.0.0->jupyter-collaboration) (8.6.0)\n",
      "Requirement already satisfied: jupyter-core!=5.0.*,>=4.12 in c:\\programdata\\anaconda3\\lib\\site-packages (from jupyter-server<3.0.0,>=2.0.0->jupyter-collaboration) (5.7.2)\n",
      "Requirement already satisfied: jupyter-server-terminals>=0.4.4 in c:\\programdata\\anaconda3\\lib\\site-packages (from jupyter-server<3.0.0,>=2.0.0->jupyter-collaboration) (0.4.4)\n",
      "Requirement already satisfied: nbconvert>=6.4.4 in c:\\programdata\\anaconda3\\lib\\site-packages (from jupyter-server<3.0.0,>=2.0.0->jupyter-collaboration) (7.10.0)\n",
      "Requirement already satisfied: nbformat>=5.3.0 in c:\\programdata\\anaconda3\\lib\\site-packages (from jupyter-server<3.0.0,>=2.0.0->jupyter-collaboration) (5.9.2)\n",
      "Requirement already satisfied: overrides>=5.0 in c:\\programdata\\anaconda3\\lib\\site-packages (from jupyter-server<3.0.0,>=2.0.0->jupyter-collaboration) (7.4.0)\n",
      "Requirement already satisfied: packaging>=22.0 in c:\\programdata\\anaconda3\\lib\\site-packages (from jupyter-server<3.0.0,>=2.0.0->jupyter-collaboration) (23.2)\n",
      "Requirement already satisfied: prometheus-client>=0.9 in c:\\programdata\\anaconda3\\lib\\site-packages (from jupyter-server<3.0.0,>=2.0.0->jupyter-collaboration) (0.14.1)\n",
      "Requirement already satisfied: pywinpty>=2.0.1 in c:\\programdata\\anaconda3\\lib\\site-packages (from jupyter-server<3.0.0,>=2.0.0->jupyter-collaboration) (2.0.10)\n",
      "Requirement already satisfied: pyzmq>=24 in c:\\programdata\\anaconda3\\lib\\site-packages (from jupyter-server<3.0.0,>=2.0.0->jupyter-collaboration) (25.1.2)\n",
      "Requirement already satisfied: send2trash>=1.8.2 in c:\\programdata\\anaconda3\\lib\\site-packages (from jupyter-server<3.0.0,>=2.0.0->jupyter-collaboration) (1.8.2)\n",
      "Requirement already satisfied: terminado>=0.8.3 in c:\\programdata\\anaconda3\\lib\\site-packages (from jupyter-server<3.0.0,>=2.0.0->jupyter-collaboration) (0.17.1)\n",
      "Requirement already satisfied: tornado>=6.2.0 in c:\\programdata\\anaconda3\\lib\\site-packages (from jupyter-server<3.0.0,>=2.0.0->jupyter-collaboration) (6.4.1)\n",
      "Requirement already satisfied: websocket-client>=1.7 in c:\\programdata\\anaconda3\\lib\\site-packages (from jupyter-server<3.0.0,>=2.0.0->jupyter-collaboration) (1.8.0)\n",
      "Collecting anyio>=3.1.0 (from jupyter-server<3.0.0,>=2.0.0->jupyter-collaboration)\n",
      "  Downloading anyio-4.6.2.post1-py3-none-any.whl.metadata (4.7 kB)\n",
      "Collecting sqlite-anyio<0.3.0,>=0.2.3 (from pycrdt-websocket<0.16.0,>=0.15.0->jupyter-collaboration)\n",
      "  Downloading sqlite_anyio-0.2.3-py3-none-any.whl.metadata (3.0 kB)\n",
      "Requirement already satisfied: idna>=2.8 in c:\\programdata\\anaconda3\\lib\\site-packages (from anyio>=3.1.0->jupyter-server<3.0.0,>=2.0.0->jupyter-collaboration) (3.7)\n",
      "Requirement already satisfied: sniffio>=1.1 in c:\\programdata\\anaconda3\\lib\\site-packages (from anyio>=3.1.0->jupyter-server<3.0.0,>=2.0.0->jupyter-collaboration) (1.3.0)\n",
      "Requirement already satisfied: argon2-cffi-bindings in c:\\programdata\\anaconda3\\lib\\site-packages (from argon2-cffi>=21.1->jupyter-server<3.0.0,>=2.0.0->jupyter-collaboration) (21.2.0)\n",
      "Requirement already satisfied: MarkupSafe>=2.0 in c:\\programdata\\anaconda3\\lib\\site-packages (from jinja2>=3.0.3->jupyter-server<3.0.0,>=2.0.0->jupyter-collaboration) (2.1.3)\n",
      "Collecting fqdn (from jsonschema[format-nongpl]>=4.18.0->jupyter-events>=0.10.0->jupyter-collaboration)\n",
      "  Downloading fqdn-1.5.1-py3-none-any.whl.metadata (1.4 kB)\n",
      "Collecting isoduration (from jsonschema[format-nongpl]>=4.18.0->jupyter-events>=0.10.0->jupyter-collaboration)\n",
      "  Downloading isoduration-20.11.0-py3-none-any.whl.metadata (5.7 kB)\n",
      "Requirement already satisfied: jsonpointer>1.13 in c:\\programdata\\anaconda3\\lib\\site-packages (from jsonschema[format-nongpl]>=4.18.0->jupyter-events>=0.10.0->jupyter-collaboration) (2.1)\n",
      "Collecting uri-template (from jsonschema[format-nongpl]>=4.18.0->jupyter-events>=0.10.0->jupyter-collaboration)\n",
      "  Downloading uri_template-1.3.0-py3-none-any.whl.metadata (8.8 kB)\n",
      "Collecting webcolors>=1.11 (from jsonschema[format-nongpl]>=4.18.0->jupyter-events>=0.10.0->jupyter-collaboration)\n",
      "  Downloading webcolors-24.8.0-py3-none-any.whl.metadata (2.6 kB)\n",
      "Requirement already satisfied: python-dateutil>=2.8.2 in c:\\programdata\\anaconda3\\lib\\site-packages (from jupyter-client>=7.4.4->jupyter-server<3.0.0,>=2.0.0->jupyter-collaboration) (2.9.0.post0)\n",
      "Requirement already satisfied: platformdirs>=2.5 in c:\\programdata\\anaconda3\\lib\\site-packages (from jupyter-core!=5.0.*,>=4.12->jupyter-server<3.0.0,>=2.0.0->jupyter-collaboration) (3.10.0)\n",
      "Requirement already satisfied: pywin32>=300 in c:\\programdata\\anaconda3\\lib\\site-packages (from jupyter-core!=5.0.*,>=4.12->jupyter-server<3.0.0,>=2.0.0->jupyter-collaboration) (305.1)\n",
      "Requirement already satisfied: beautifulsoup4 in c:\\programdata\\anaconda3\\lib\\site-packages (from nbconvert>=6.4.4->jupyter-server<3.0.0,>=2.0.0->jupyter-collaboration) (4.12.3)\n",
      "Requirement already satisfied: bleach!=5.0.0 in c:\\programdata\\anaconda3\\lib\\site-packages (from nbconvert>=6.4.4->jupyter-server<3.0.0,>=2.0.0->jupyter-collaboration) (4.1.0)\n",
      "Requirement already satisfied: defusedxml in c:\\programdata\\anaconda3\\lib\\site-packages (from nbconvert>=6.4.4->jupyter-server<3.0.0,>=2.0.0->jupyter-collaboration) (0.7.1)\n",
      "Requirement already satisfied: jupyterlab-pygments in c:\\programdata\\anaconda3\\lib\\site-packages (from nbconvert>=6.4.4->jupyter-server<3.0.0,>=2.0.0->jupyter-collaboration) (0.1.2)\n",
      "Requirement already satisfied: mistune<4,>=2.0.3 in c:\\programdata\\anaconda3\\lib\\site-packages (from nbconvert>=6.4.4->jupyter-server<3.0.0,>=2.0.0->jupyter-collaboration) (2.0.4)\n",
      "Requirement already satisfied: nbclient>=0.5.0 in c:\\programdata\\anaconda3\\lib\\site-packages (from nbconvert>=6.4.4->jupyter-server<3.0.0,>=2.0.0->jupyter-collaboration) (0.8.0)\n",
      "Requirement already satisfied: pandocfilters>=1.4.1 in c:\\programdata\\anaconda3\\lib\\site-packages (from nbconvert>=6.4.4->jupyter-server<3.0.0,>=2.0.0->jupyter-collaboration) (1.5.0)\n",
      "Requirement already satisfied: pygments>=2.4.1 in c:\\programdata\\anaconda3\\lib\\site-packages (from nbconvert>=6.4.4->jupyter-server<3.0.0,>=2.0.0->jupyter-collaboration) (2.15.1)\n",
      "Requirement already satisfied: tinycss2 in c:\\programdata\\anaconda3\\lib\\site-packages (from nbconvert>=6.4.4->jupyter-server<3.0.0,>=2.0.0->jupyter-collaboration) (1.2.1)\n",
      "Requirement already satisfied: fastjsonschema in c:\\programdata\\anaconda3\\lib\\site-packages (from nbformat>=5.3.0->jupyter-server<3.0.0,>=2.0.0->jupyter-collaboration) (2.16.2)\n",
      "Requirement already satisfied: six in c:\\programdata\\anaconda3\\lib\\site-packages (from rfc3339-validator->jupyter-events>=0.10.0->jupyter-collaboration) (1.16.0)\n",
      "Requirement already satisfied: webencodings in c:\\programdata\\anaconda3\\lib\\site-packages (from bleach!=5.0.0->nbconvert>=6.4.4->jupyter-server<3.0.0,>=2.0.0->jupyter-collaboration) (0.5.1)\n",
      "Requirement already satisfied: cffi>=1.0.1 in c:\\programdata\\anaconda3\\lib\\site-packages (from argon2-cffi-bindings->argon2-cffi>=21.1->jupyter-server<3.0.0,>=2.0.0->jupyter-collaboration) (1.16.0)\n",
      "Requirement already satisfied: soupsieve>1.2 in c:\\programdata\\anaconda3\\lib\\site-packages (from beautifulsoup4->nbconvert>=6.4.4->jupyter-server<3.0.0,>=2.0.0->jupyter-collaboration) (2.5)\n",
      "Requirement already satisfied: arrow>=0.15.0 in c:\\programdata\\anaconda3\\lib\\site-packages (from isoduration->jsonschema[format-nongpl]>=4.18.0->jupyter-events>=0.10.0->jupyter-collaboration) (1.2.3)\n",
      "Requirement already satisfied: pycparser in c:\\programdata\\anaconda3\\lib\\site-packages (from cffi>=1.0.1->argon2-cffi-bindings->argon2-cffi>=21.1->jupyter-server<3.0.0,>=2.0.0->jupyter-collaboration) (2.21)\n",
      "Downloading jupyter_collaboration-2.1.5-py3-none-any.whl (59 kB)\n",
      "   ---------------------------------------- 0.0/59.1 kB ? eta -:--:--\n",
      "   ------ --------------------------------- 10.2/59.1 kB ? eta -:--:--\n",
      "   ---------------------------------- ----- 51.2/59.1 kB 871.5 kB/s eta 0:00:01\n",
      "   ---------------------------------------- 59.1/59.1 kB 618.7 kB/s eta 0:00:00\n",
      "Downloading jupyter_server_fileid-0.9.3-py3-none-any.whl (16 kB)\n",
      "Downloading jupyter_ydoc-2.1.3-py3-none-any.whl (11 kB)\n",
      "Downloading pycrdt-0.10.6-cp312-none-win_amd64.whl (679 kB)\n",
      "   ---------------------------------------- 0.0/679.6 kB ? eta -:--:--\n",
      "   --- ------------------------------------ 61.4/679.6 kB 3.2 MB/s eta 0:00:01\n",
      "   ----- ---------------------------------- 92.2/679.6 kB 1.3 MB/s eta 0:00:01\n",
      "   ------------ --------------------------- 204.8/679.6 kB 1.8 MB/s eta 0:00:01\n",
      "   ------------------ --------------------- 307.2/679.6 kB 2.1 MB/s eta 0:00:01\n",
      "   ---------------------- ----------------- 389.1/679.6 kB 2.0 MB/s eta 0:00:01\n",
      "   ----------------------------- ---------- 501.8/679.6 kB 2.2 MB/s eta 0:00:01\n",
      "   ----------------------------------- ---- 604.2/679.6 kB 2.4 MB/s eta 0:00:01\n",
      "   ---------------------------------------  675.8/679.6 kB 2.4 MB/s eta 0:00:01\n",
      "   ---------------------------------------- 679.6/679.6 kB 2.1 MB/s eta 0:00:00\n",
      "Downloading pycrdt_websocket-0.15.1-py3-none-any.whl (20 kB)\n",
      "Downloading anyio-4.6.2.post1-py3-none-any.whl (90 kB)\n",
      "   ---------------------------------------- 0.0/90.4 kB ? eta -:--:--\n",
      "   ------------------------------------ --- 81.9/90.4 kB 2.3 MB/s eta 0:00:01\n",
      "   ---------------------------------------- 90.4/90.4 kB 1.3 MB/s eta 0:00:00\n",
      "Downloading sqlite_anyio-0.2.3-py3-none-any.whl (4.7 kB)\n",
      "Downloading webcolors-24.8.0-py3-none-any.whl (15 kB)\n",
      "Downloading fqdn-1.5.1-py3-none-any.whl (9.1 kB)\n",
      "Downloading isoduration-20.11.0-py3-none-any.whl (11 kB)\n",
      "Downloading uri_template-1.3.0-py3-none-any.whl (11 kB)\n",
      "Installing collected packages: webcolors, uri-template, fqdn, anyio, sqlite-anyio, pycrdt, pycrdt-websocket, jupyter-ydoc, isoduration, jupyter-server-fileid, jupyter-collaboration\n",
      "Successfully installed anyio-4.6.2.post1 fqdn-1.5.1 isoduration-20.11.0 jupyter-collaboration-2.1.5 jupyter-server-fileid-0.9.3 jupyter-ydoc-2.1.3 pycrdt-0.10.6 pycrdt-websocket-0.15.1 sqlite-anyio-0.2.3 uri-template-1.3.0 webcolors-24.8.0\n"
     ]
    },
    {
     "name": "stderr",
     "output_type": "stream",
     "text": [
      "  WARNING: The script jupyter-fileid.exe is installed in 'C:\\Users\\Neha\\AppData\\Roaming\\Python\\Python312\\Scripts' which is not on PATH.\n",
      "  Consider adding this directory to PATH or, if you prefer to suppress this warning, use --no-warn-script-location.\n"
     ]
    }
   ],
   "source": [
    "!pip install jupyter-collaboration"
   ]
  },
  {
   "cell_type": "code",
   "execution_count": 20,
   "id": "fd7ce7a1-2ff0-4fc1-8555-1b67bd4fc5a9",
   "metadata": {},
   "outputs": [
    {
     "data": {
      "text/plain": [
       "0.5165527878383627"
      ]
     },
     "execution_count": 20,
     "metadata": {},
     "output_type": "execute_result"
    }
   ],
   "source": [
    "import pandas as pd\n",
    "import numpy as np\n",
    "import matplotlib.pyplot as plt\n",
    "import seaborn as sns\n",
    "import warnings\n",
    "warnings.filterwarnings('ignore')\n",
    "\n",
    "d = pd.read_csv(\"train.csv\")\n",
    "\n",
    "data['Item_Weight'].fillna(data['Item_Weight'].mean(), inplace=True)\n",
    "mode_of_outlet_size = data.pivot_table(values='Outlet_Size', columns = 'Outlet_Type', aggfunc = lambda x : x.mode()[0])\n",
    "missing_value = data['Outlet_Size'].isnull()\n",
    "data.loc[missing_value, 'Outlet_Size'] = data.loc[missing_value, 'Outlet_Type'].apply(lambda x: mode_of_outlet_size[x])\n",
    "data.replace({'Item_Fat_Content': {'low fat': 'Low Fat', 'LF': 'Low Fat', 'reg':'Regular'}}, inplace=True)\n",
    "\n",
    "from sklearn.preprocessing import LabelEncoder\n",
    "from sklearn.model_selection import train_test_split\n",
    "from xgboost import XGBRegressor\n",
    "from sklearn import metrics\n",
    "\n",
    "encoder = LabelEncoder()\n",
    "data['Item_Identifier']  = encoder.fit_transform(data['Item_Identifier'])\n",
    "data['Item_Fat_Content']  = encoder.fit_transform(data['Item_Fat_Content'])\n",
    "data['Item_Type']  = encoder.fit_transform(data['Item_Type'])\n",
    "data['Outlet_Identifier']  = encoder.fit_transform(data['Outlet_Identifier'])\n",
    "data['Outlet_Size']  = encoder.fit_transform(data['Outlet_Size'])\n",
    "data['Outlet_Location_Type']  = encoder.fit_transform(data['Outlet_Location_Type'])\n",
    "data['Outlet_Type']  = encoder.fit_transform(data['Outlet_Type'])\n",
    "\n",
    "X = data.drop(columns = 'Item_Outlet_Sales', axis = 1)\n",
    "y = data['Item_Outlet_Sales']\n",
    "\n",
    "X_train, X_test, y_train, y_test = train_test_split(X, y, test_size = 0.2, random_state = 42)\n",
    "\n",
    "model = XGBRegressor()\n",
    "model.fit(X_train, y_train)\n",
    "y_pred = model.predict(X_test)\n",
    "\n",
    "metrics.r2_score(y_test, y_pred)"
   ]
  },
  {
   "cell_type": "code",
   "execution_count": 21,
   "id": "ecd8c027-9b9b-4594-b031-f2bdabb18b9d",
   "metadata": {},
   "outputs": [
    {
     "name": "stdout",
     "output_type": "stream",
     "text": [
      "R-squared Score: 0.5166\n",
      "Accuracy Percentage: 51.66%\n"
     ]
    }
   ],
   "source": [
    "# Calculate R-squared score\n",
    "r2_score = metrics.r2_score(y_test, y_pred)\n",
    "\n",
    "# Convert R-squared score to percentage\n",
    "accuracy_percentage = r2_score * 100\n",
    "\n",
    "print(f'R-squared Score: {r2_score:.4f}')\n",
    "print(f'Accuracy Percentage: {accuracy_percentage:.2f}%')"
   ]
  },
  {
   "cell_type": "code",
   "execution_count": 22,
   "id": "ea18cf5b-8fde-415d-841f-01e0a71a7582",
   "metadata": {},
   "outputs": [
    {
     "name": "stdout",
     "output_type": "stream",
     "text": [
      "R^2 Score: 0.5637897441110757\n"
     ]
    }
   ],
   "source": [
    "import pandas as pd\n",
    "import numpy as np\n",
    "import matplotlib.pyplot as plt\n",
    "import seaborn as sns\n",
    "import warnings \n",
    "warnings.filterwarnings('ignore')\n",
    "\n",
    "data = pd.read_csv(\"train.csv\")\n",
    "\n",
    "data['Item_Weight'].fillna(data['Item_Weight'].mean(), inplace=True)\n",
    "mode_of_outlet_size = data.pivot_table(values='Outlet_Size', columns='Outlet_Type', aggfunc=lambda x: x.mode()[0])\n",
    "missing_value = data['Outlet_Size'].isnull()\n",
    "data.loc[missing_value, 'Outlet_Size'] = data.loc[missing_value, 'Outlet_Type'].apply(lambda x: mode_of_outlet_size[x])\n",
    "data.replace({'Item_Fat_Content': {'low fat': 'Low Fat', 'LF': 'Low Fat', 'reg':'Regular'}}, inplace=True)\n",
    "\n",
    "from sklearn.preprocessing import LabelEncoder\n",
    "from sklearn.model_selection import train_test_split\n",
    "from sklearn.ensemble import RandomForestRegressor  # Changed to RandomForestRegressor\n",
    "from sklearn import metrics\n",
    "\n",
    "encoder = LabelEncoder()\n",
    "data['Item_Identifier']  = encoder.fit_transform(data['Item_Identifier'])\n",
    "data['Item_Fat_Content']  = encoder.fit_transform(data['Item_Fat_Content'])\n",
    "data['Item_Type']  = encoder.fit_transform(data['Item_Type'])\n",
    "data['Outlet_Identifier']  = encoder.fit_transform(data['Outlet_Identifier'])\n",
    "data['Outlet_Size']  = encoder.fit_transform(data['Outlet_Size'])\n",
    "data['Outlet_Location_Type']  = encoder.fit_transform(data['Outlet_Location_Type'])\n",
    "data['Outlet_Type']  = encoder.fit_transform(data['Outlet_Type'])\n",
    "\n",
    "X = data.drop(columns='Item_Outlet_Sales', axis=1)\n",
    "y = data['Item_Outlet_Sales']\n",
    "\n",
    "X_train, X_test, y_train, y_test = train_test_split(X, y, test_size=0.2, random_state=42)\n",
    "\n",
    "model = RandomForestRegressor()  # Changed to RandomForestRegressor\n",
    "model.fit(X_train, y_train)\n",
    "y_pred = model.predict(X_test)\n",
    "\n",
    "r2_score = metrics.r2_score(y_test, y_pred)\n",
    "print(f\"R^2 Score: {r2_score}\")"
   ]
  },
  {
   "cell_type": "code",
   "execution_count": 23,
   "id": "8cc2f045-b41b-4bea-a221-9f7894625c1d",
   "metadata": {},
   "outputs": [
    {
     "name": "stdout",
     "output_type": "stream",
     "text": [
      "R-squared Score: 0.5638\n",
      "Accuracy Percentage: 56.38%\n"
     ]
    }
   ],
   "source": [
    "# Calculate R-squared score\n",
    "r2_score = metrics.r2_score(y_test, y_pred)\n",
    "\n",
    "# Convert R-squared score to percentage\n",
    "accuracy_percentage = r2_score * 100\n",
    "\n",
    "print(f'R-squared Score: {r2_score:.4f}')\n",
    "print(f'Accuracy Percentage: {accuracy_percentage:.2f}%')"
   ]
  },
  {
   "cell_type": "code",
   "execution_count": null,
   "id": "1f0a1db9-85a2-4861-9194-5b76f0173c21",
   "metadata": {},
   "outputs": [],
   "source": []
  }
 ],
 "metadata": {
  "kernelspec": {
   "display_name": "Python 3 (ipykernel)",
   "language": "python",
   "name": "python3"
  },
  "language_info": {
   "codemirror_mode": {
    "name": "ipython",
    "version": 3
   },
   "file_extension": ".py",
   "mimetype": "text/x-python",
   "name": "python",
   "nbconvert_exporter": "python",
   "pygments_lexer": "ipython3",
   "version": "3.12.4"
  }
 },
 "nbformat": 4,
 "nbformat_minor": 5
}
